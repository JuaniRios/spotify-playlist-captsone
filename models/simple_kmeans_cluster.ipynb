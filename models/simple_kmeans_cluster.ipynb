{
 "cells": [
  {
   "cell_type": "code",
   "execution_count": 19,
   "metadata": {},
   "outputs": [],
   "source": [
    "import json\n",
    "import os\n",
    "from itertools import chain\n",
    "from sklearn.cluster import KMeans\n",
    "from scipy.sparse import vstack, save_npz, coo_matrix\n",
    "import time\n",
    "import pickle\n",
    "import numpy as np\n",
    "import matplotlib.pyplot as plt "
   ]
  },
  {
   "cell_type": "code",
   "execution_count": 20,
   "metadata": {},
   "outputs": [],
   "source": [
    "path = \"C:/Users/Dennis Waswa/Desktop/ML1/data/\"\n",
    "reduced_percentage = 0.2\n",
    "f_name_songlist = \"allSongs_reduced.pickle\" # name for song list pickle file\n",
    "f_name_mx = 'sparse_matrix_reduced.npz' # name for sparse matrix\n",
    "start = time.perf_counter()"
   ]
  },
  {
   "cell_type": "code",
   "execution_count": 21,
   "metadata": {},
   "outputs": [
    {
     "name": "stdout",
     "output_type": "stream",
     "text": [
      "Pickle found :)\n",
      "Reading Pickle\n",
      "Pickle reading finished\n",
      "Creating vectors for spare matrix\n",
      "Finished creating vectors\n",
      "Creating Sparse Matrix\n",
      "\n",
      "\n",
      "TOTAL RUN DURATION: 10.55204429999958\n"
     ]
    }
   ],
   "source": [
    "#%% Create list of playlists\n",
    "def pickle_playlists(filename, data_loc, percentage):\n",
    "    print(os.getcwd())\n",
    "    db = []\n",
    "    # get all files (dataset is divided)\n",
    "    files = os.listdir(data_loc)\n",
    "    amount_files = len(files)\n",
    "    limit = int(amount_files * (percentage/100))\n",
    "    reduced_files = files[:limit]\n",
    "    for file in reduced_files:\n",
    "        print(f\"getting {file}\")\n",
    "        data = json.load(open(data_loc + file))\n",
    "        # list of playlist are under the key \"playlists\"\n",
    "        for row in data[\"playlists\"]:\n",
    "            tracks = [song[\"artist_name\"] + \" - \" + song[\"track_name\"] for song in row[\"tracks\"]]\n",
    "            db.append(tracks)\n",
    "\n",
    "    with open(filename, 'wb') as f:\n",
    "        pickle.dump(db, f, pickle.HIGHEST_PROTOCOL)\n",
    "\n",
    "if not os.path.isfile(f_name_songlist):\n",
    "    print(\"Pickle not found, creating it now. Please wait...\")\n",
    "    pickle_playlists(f_name_songlist, path, reduced_percentage)\n",
    "    print(\"Created pickled playlists\")\n",
    "else:\n",
    "    print(\"Pickle found :)\")\n",
    "\n",
    "print(\"Reading Pickle\")\n",
    "with open(f_name_songlist, 'rb') as f:\n",
    "    playlists = pickle.load(f)\n",
    "print(\"Pickle reading finished\")\n",
    "\n",
    "#%% Get vectors for sparse matrix (coordinates in a playlist~songlist where a song is found)\n",
    "# rows were each playlist. we eliminate rows and remove duplicates to get unique songs\n",
    "print(\"Creating vectors for spare matrix\")\n",
    "song_list = list(set(chain(*playlists)))\n",
    "song_map = {song:i for i,song in enumerate(song_list)}\n",
    "\n",
    "data_m, row_ix, col_ix = [], [], []\n",
    "\n",
    "for rowIdx, rw in enumerate(playlists):\n",
    "    for dbSong in rw:\n",
    "        row_ix.append(rowIdx)\n",
    "        col_ix.append(song_map[dbSong])\n",
    "data_m = [1]*len(col_ix)\n",
    "print(\"Finished creating vectors\")\n",
    "\n",
    "#%% Create Sparse Matrix\n",
    "print(\"Creating Sparse Matrix\")\n",
    "sparseMatrix = coo_matrix((data_m, (row_ix, col_ix)), shape=(len(playlists), len(song_map)))\n",
    "\n",
    "save_npz(f_name_mx, sparseMatrix)\n",
    "\n",
    "#kmeans.labels_\n",
    "# print time taken\n",
    "end = time.perf_counter()\n",
    "print(f\"\\n\\nTOTAL RUN DURATION: {end-start}\")"
   ]
  },
  {
   "cell_type": "code",
   "execution_count": 22,
   "metadata": {},
   "outputs": [
    {
     "data": {
      "text/plain": [
       "<50000x448689 sparse matrix of type '<class 'numpy.intc'>'\n",
       "\twith 3300949 stored elements in Compressed Sparse Row format>"
      ]
     },
     "execution_count": 22,
     "metadata": {},
     "output_type": "execute_result"
    }
   ],
   "source": [
    "#The coo_matrix class does not support indexing\n",
    "#convert coo_matrix to numpy array \n",
    "x = sparseMatrix.tocsr()\n",
    "x"
   ]
  },
  {
   "cell_type": "code",
   "execution_count": 23,
   "metadata": {},
   "outputs": [],
   "source": [
    "#perform Kmeans cluster\n",
    "kmeans = KMeans(n_clusters=4, init='k-means++', random_state=0)\n",
    "y_means = kmeans.fit(x)\n",
    "#print(y_means.cluster_centers_)"
   ]
  },
  {
   "cell_type": "code",
   "execution_count": 24,
   "metadata": {},
   "outputs": [
    {
     "name": "stdout",
     "output_type": "stream",
     "text": [
      "[[0.0000000e+00 0.0000000e+00 0.0000000e+00 ... 0.0000000e+00\n",
      "  0.0000000e+00 0.0000000e+00]\n",
      " [0.0000000e+00 0.0000000e+00 0.0000000e+00 ... 0.0000000e+00\n",
      "  0.0000000e+00 0.0000000e+00]\n",
      " [0.0000000e+00 0.0000000e+00 0.0000000e+00 ... 0.0000000e+00\n",
      "  0.0000000e+00 0.0000000e+00]\n",
      " [2.2111175e-04 4.4222350e-05 2.2111175e-05 ... 2.2111175e-05\n",
      "  8.8444700e-05 2.2111175e-05]]\n"
     ]
    }
   ],
   "source": [
    "print(y_means.cluster_centers_)"
   ]
  },
  {
   "cell_type": "code",
   "execution_count": 25,
   "metadata": {},
   "outputs": [
    {
     "data": {
      "text/plain": [
       "KMeans(algorithm='auto', copy_x=True, init='k-means++', max_iter=300,\n",
       "       n_clusters=4, n_init=10, n_jobs=None, precompute_distances='auto',\n",
       "       random_state=0, tol=0.0001, verbose=0)"
      ]
     },
     "execution_count": 25,
     "metadata": {},
     "output_type": "execute_result"
    }
   ],
   "source": [
    "y_means"
   ]
  },
  {
   "cell_type": "code",
   "execution_count": 26,
   "metadata": {},
   "outputs": [
    {
     "data": {
      "text/plain": [
       "array([3, 3, 3, ..., 3, 3, 3])"
      ]
     },
     "execution_count": 26,
     "metadata": {},
     "output_type": "execute_result"
    }
   ],
   "source": [
    "#y_means = kmeans.predict(x)\n",
    "#y_means"
   ]
  },
  {
   "cell_type": "code",
   "execution_count": 28,
   "metadata": {},
   "outputs": [],
   "source": [
    "#plt.scatter(x[:, 0], x[:, 1], c=y_means, s=50, cmap='viridis')\n",
    "\n",
    "#centers = kmeans.cluster_centers_\n",
    "#plt.scatter(centers[:, 0], centers[:, 1], c='black', s=200, alpha=0.5);"
   ]
  },
  {
   "cell_type": "code",
   "execution_count": null,
   "metadata": {},
   "outputs": [],
   "source": []
  }
 ],
 "metadata": {
  "kernelspec": {
   "display_name": "Python 3",
   "language": "python",
   "name": "python3"
  },
  "language_info": {
   "codemirror_mode": {
    "name": "ipython",
    "version": 3
   },
   "file_extension": ".py",
   "mimetype": "text/x-python",
   "name": "python",
   "nbconvert_exporter": "python",
   "pygments_lexer": "ipython3",
   "version": "3.7.6"
  }
 },
 "nbformat": 4,
 "nbformat_minor": 4
}
